{
 "cells": [
  {
   "cell_type": "markdown",
   "metadata": {},
   "source": [
    "函数封装"
   ]
  },
  {
   "cell_type": "code",
   "execution_count": 3,
   "metadata": {},
   "outputs": [
    {
     "name": "stdout",
     "output_type": "stream",
     "text": [
      "20\n",
      "21\n",
      "20\n"
     ]
    }
   ],
   "source": [
    "# 计算a+b的值并打印，未进行函数封装\n",
    "a = 10\n",
    "b = 10\n",
    "c = a + b\n",
    "print(c)\n",
    "\n",
    "a = 1\n",
    "b = 20\n",
    "c = a + b\n",
    "print(c)\n",
    "\n",
    "a = 5\n",
    "b = 15\n",
    "c = a + b\n",
    "print(c)"
   ]
  },
  {
   "cell_type": "code",
   "execution_count": 4,
   "metadata": {},
   "outputs": [
    {
     "name": "stdout",
     "output_type": "stream",
     "text": [
      "20\n"
     ]
    }
   ],
   "source": [
    "a = 10\n",
    "b = 10\n",
    "c = a + b\n",
    "print(c)"
   ]
  },
  {
   "cell_type": "code",
   "execution_count": 5,
   "metadata": {},
   "outputs": [
    {
     "name": "stdout",
     "output_type": "stream",
     "text": [
      "20\n",
      "35\n",
      "7\n"
     ]
    }
   ],
   "source": [
    "def Add(a, b):\n",
    "    c = a + b\n",
    "    print(c)\n",
    "\n",
    "\n",
    "Add(10, 10)\n",
    "Add(15, 20)\n",
    "Add(1, 6)"
   ]
  },
  {
   "cell_type": "code",
   "execution_count": 6,
   "metadata": {},
   "outputs": [
    {
     "name": "stdout",
     "output_type": "stream",
     "text": [
      "a = 10, b = 20\n",
      "After swap: a = 20, b = 10\n"
     ]
    }
   ],
   "source": [
    "# 交换a与b的值\n",
    "a = 10\n",
    "b = 20\n",
    "print(\"a = %d, b = %d\" % (a, b))\n",
    "temp = a\n",
    "a = b\n",
    "b = temp\n",
    "print(\"After swap: a = %d, b = %d\" % (a, b))"
   ]
  },
  {
   "cell_type": "code",
   "execution_count": null,
   "metadata": {},
   "outputs": [],
   "source": [
    "def Swap(a, b):\n",
    "    print(\"a = %d, b = %d\" % (a, b))\n",
    "    temp = a\n",
    "    a = b\n",
    "    b = temp\n",
    "    print(\"After swap: a = %d, b = %d\" % (a, b))\n",
    "\n",
    "\n",
    "Swap(a=10, b=20)\n",
    "Swap(a=5, b=90)"
   ]
  },
  {
   "cell_type": "markdown",
   "metadata": {},
   "source": [
    "函数的定义与调用"
   ]
  },
  {
   "cell_type": "code",
   "execution_count": null,
   "metadata": {},
   "outputs": [],
   "source": [
    "def PrintStr(str):\n",
    "    # 打印传入的字符串\n",
    "    print(str)\n",
    "    return\n",
    "\n",
    "\n",
    "def CalculateAbs(x):\n",
    "    # 计算传入数字的绝对值\n",
    "    if x >= 0:\n",
    "        return x\n",
    "    else:\n",
    "        return -x\n",
    "\n",
    "\n",
    "# PrintStr(\"abcdef\")\n",
    "# PrintStr(\"Hello world !\")\n",
    "\n",
    "print(\"-1的绝对值为：%d\" % CalculateAbs(-1))\n",
    "print(\"8的绝对值为：%d\" % CalculateAbs(8))\n",
    "print(\"-4的绝对值为：%d\" % CalculateAbs(-4))\n",
    "\n",
    "# a = PrintStr(\"Hello world !\")\n",
    "# print(\"PrintStr函数的返回值为：\")\n",
    "# print(a)"
   ]
  },
  {
   "cell_type": "markdown",
   "metadata": {},
   "source": [
    "return [返回值]"
   ]
  },
  {
   "cell_type": "code",
   "execution_count": null,
   "metadata": {},
   "outputs": [],
   "source": [
    "def Add(a, b):\n",
    "    # 返回a+b的值\n",
    "    c = a + b\n",
    "    return c\n",
    "\n",
    "\n",
    "sum = Add(1, 6)\n",
    "print(\"1 + 6 = %d\" % sum)"
   ]
  },
  {
   "cell_type": "markdown",
   "metadata": {},
   "source": [
    "函数的传参"
   ]
  },
  {
   "cell_type": "code",
   "execution_count": null,
   "metadata": {},
   "outputs": [],
   "source": [
    "def dis_str(str1, str2):\n",
    "    print(\"str1 : \", str1)\n",
    "    print(\"str2 : \", str2)\n",
    "\n",
    "\n",
    "# 位置参数\n",
    "dis_str(\"python\", \"function\")\n",
    "\n",
    "# 关键字参数\n",
    "dis_str(\"python\", str2=\"function\")\n",
    "dis_str(str2=\"function\", str1=\"python\")"
   ]
  },
  {
   "cell_type": "code",
   "execution_count": null,
   "metadata": {},
   "outputs": [],
   "source": [
    "def dis_str(str1, str2=\"function\"):\n",
    "    print(\"str1 : \", str1)\n",
    "    print(\"str2 : \", str2)\n",
    "\n",
    "\n",
    "# 默认参数\n",
    "dis_str(\"python\")"
   ]
  },
  {
   "cell_type": "markdown",
   "metadata": {},
   "source": [
    "lambda [arg1 [,arg2,.....argn]]:expression"
   ]
  },
  {
   "cell_type": "markdown",
   "metadata": {},
   "source": [
    "匿名函数"
   ]
  },
  {
   "cell_type": "code",
   "execution_count": null,
   "metadata": {},
   "outputs": [],
   "source": [
    "# 匿名函数定义\n",
    "add = lambda arg1, arg2: arg1 + arg2\n",
    "\n",
    "# 调用add函数\n",
    "print(\"10 + 20 = \", add(10, 20))\n",
    "print(\"20 + 20 = \", add(20, 20))"
   ]
  },
  {
   "cell_type": "code",
   "execution_count": null,
   "metadata": {},
   "outputs": [],
   "source": [
    "# 匿名函数定义\n",
    "multiply = lambda arg1, arg2: arg1 * arg2\n",
    "\n",
    "# 调用multiply函数\n",
    "print(\"10 * 10 = \", multiply(10, 10))\n",
    "print(\"20 * 10 = \", multiply(20, 10))"
   ]
  },
  {
   "cell_type": "markdown",
   "metadata": {},
   "source": [
    "不定长参数"
   ]
  },
  {
   "cell_type": "code",
   "execution_count": 7,
   "metadata": {},
   "outputs": [
    {
     "name": "stdout",
     "output_type": "stream",
     "text": [
      "输出: \n",
      "10\n",
      "输出: \n",
      "70\n",
      "60\n",
      "50\n"
     ]
    }
   ],
   "source": [
    "# 含不定长参数的函数声明\n",
    "def print_info(arg1, *var_tuple):\n",
    "    # 打印传入的所有变量\n",
    "    # var为variable缩写\n",
    "    print(\"输出: \")\n",
    "    print(arg1)\n",
    "    for var in var_tuple:\n",
    "        print(var)\n",
    "\n",
    "\n",
    "# 调用print_info函数\n",
    "print_info(10)\n",
    "print_info(70, 60, 50)"
   ]
  },
  {
   "cell_type": "markdown",
   "metadata": {},
   "source": [
    "变量的作用域"
   ]
  },
  {
   "cell_type": "code",
   "execution_count": null,
   "metadata": {},
   "outputs": [],
   "source": [
    "# 这是一个全局变量\n",
    "total = 0\n",
    "\n",
    "\n",
    "# 函数定义\n",
    "def Add(arg1, arg2):\n",
    "    # 在函数内声明的total在这里是局部变量.\n",
    "    total = arg1 + arg2\n",
    "    print(\"函数内是局部变量 : \", total)\n",
    "    return total\n",
    "\n",
    "\n",
    "# 调用sum函数\n",
    "Add(10, 20)\n",
    "print(\"函数外是全局变量 : \", total)"
   ]
  },
  {
   "cell_type": "code",
   "execution_count": null,
   "metadata": {},
   "outputs": [],
   "source": [
    "# 这是一个全局变量\n",
    "arg1 = 10\n",
    "\n",
    "\n",
    "# 函数定义\n",
    "def Add(arg2):\n",
    "    # 在函数内访问arg1全局变量的值\n",
    "    total = arg1 + arg2\n",
    "    print(\"在函数内访问全局变量arg1的值为 ：\", arg1)\n",
    "    return total\n",
    "\n",
    "\n",
    "print(\"arg1 + arg2 =\", Add(arg2=20))"
   ]
  },
  {
   "cell_type": "markdown",
   "metadata": {},
   "source": [
    "返回多个值"
   ]
  },
  {
   "cell_type": "code",
   "execution_count": null,
   "metadata": {},
   "outputs": [],
   "source": [
    "def multi_return(a, b):\n",
    "    # 返回多个值，返回的值以元组表示\n",
    "    return a, b, a + b, a - b, a * b\n",
    "\n",
    "\n",
    "result = multi_return(1, 2)\n",
    "print(\"所有返回值为：\", result)\n",
    "print(\"a+b的值为：\", result[2])\n",
    "print(\"a-b的值为：\", result[3])\n",
    "print(\"a*b的值为：\", result[4])"
   ]
  },
  {
   "cell_type": "markdown",
   "metadata": {},
   "source": [
    "模块化编码\n",
    "\n",
    "import module1[, module2[,... moduleN]]\n",
    "\n",
    "from modname import name1[, name2[, ... nameN]]\n",
    "\n",
    "from modname import *"
   ]
  },
  {
   "cell_type": "code",
   "execution_count": null,
   "metadata": {},
   "outputs": [],
   "source": [
    "# 导入python的数学函数模块\n",
    "import math\n",
    "\n",
    "# 调用math模块中计算绝对值的函数\n",
    "a = math.fabs(-1)\n",
    "print(a)"
   ]
  },
  {
   "cell_type": "code",
   "execution_count": null,
   "metadata": {},
   "outputs": [],
   "source": [
    "# 导入python的数学函数模块中特定的函数，as后为别名\n",
    "from math import fabs as abs\n",
    "\n",
    "# 调用math模块中计算绝对值的函数\n",
    "a = abs(-1)\n",
    "print(a)"
   ]
  },
  {
   "cell_type": "code",
   "execution_count": null,
   "metadata": {},
   "outputs": [],
   "source": [
    "# 导入python的数学函数模块中所有函数\n",
    "from math import *\n",
    "\n",
    "# 调用math模块中计算绝对值的函数\n",
    "# 可以直接使用函数名无需写成 math.fabs\n",
    "a = fabs(-1)\n",
    "print(a)"
   ]
  },
  {
   "cell_type": "code",
   "execution_count": null,
   "metadata": {},
   "outputs": [],
   "source": [
    "import customed_math\n",
    "\n",
    "a = customed_math.fabs(-1)\n",
    "print(a)"
   ]
  },
  {
   "cell_type": "code",
   "execution_count": null,
   "metadata": {},
   "outputs": [],
   "source": [
    "# 斐波那契数列\n",
    "def fib(n):\n",
    "    a, b = 1, 1\n",
    "    for i in range(n - 1):\n",
    "        a, b = b, a + b\n",
    "    return a\n",
    "\n",
    "\n",
    "# 输出了第k个斐波那契数列\n",
    "print(\"斐波那契第10个数为：\", fib(10))\n",
    "print(\"斐波那契第15个数为：\", fib(15))\n",
    "print(\"斐波那契第30个数为：\", fib(30))"
   ]
  },
  {
   "cell_type": "code",
   "execution_count": 8,
   "metadata": {},
   "outputs": [
    {
     "name": "stdout",
     "output_type": "stream",
     "text": [
      "2的阶乘为： 2\n",
      "8的阶乘为： 40320\n",
      "10的阶乘为： 3628800\n"
     ]
    }
   ],
   "source": [
    "# 阶乘\n",
    "# 函数为递归函数\n",
    "def fact(j):\n",
    "    sum = 0\n",
    "    # TODO\n",
    "    if j == 1:\n",
    "        return 1\n",
    "    else:\n",
    "        sum = j * fact(j-1)\n",
    "    return sum\n",
    "\n",
    "\n",
    "# 输出n的阶乘\n",
    "print(\"2的阶乘为：\", fact(2))\n",
    "print(\"8的阶乘为：\", fact(8))\n",
    "print(\"10的阶乘为：\", fact(10))"
   ]
  },
  {
   "cell_type": "code",
   "execution_count": 11,
   "metadata": {},
   "outputs": [
    {
     "name": "stdout",
     "output_type": "stream",
     "text": [
      "22\n"
     ]
    }
   ],
   "source": [
    "# 练习题一\n",
    "def collatz(number):\n",
    "\n",
    "\n",
    "# TODO\n",
    "    if not number % 2:\n",
    "        print(number//2)\n",
    "    else:\n",
    "        print(3*number+1)\n",
    "collatz(7)"
   ]
  },
  {
   "cell_type": "code",
   "execution_count": 1,
   "metadata": {
    "pycharm": {
     "name": "#%%\n"
    }
   },
   "outputs": [
    {
     "name": "stdout",
     "output_type": "stream",
     "text": [
      "3\n"
     ]
    }
   ],
   "source": [
    "# 练习题二\n",
    "def price(number):\n",
    "\n",
    "\n",
    "# TODO\n",
    "    if 0<=number<0.08:\n",
    "        print(1)\n",
    "    elif 0.08<=number<0.3:\n",
    "        print(2)\n",
    "    elif 0.3<=number<1:\n",
    "        print(3)\n",
    "    else:\n",
    "        print('error')\n",
    "\n",
    "price(0.5)"
   ]
  }
 ],
 "metadata": {
  "kernelspec": {
   "display_name": "Python 3 (ipykernel)",
   "language": "python",
   "name": "python3"
  },
  "language_info": {
   "codemirror_mode": {
    "name": "ipython",
    "version": 3
   },
   "file_extension": ".py",
   "mimetype": "text/x-python",
   "name": "python",
   "nbconvert_exporter": "python",
   "pygments_lexer": "ipython3",
   "version": "3.9.7"
  }
 },
 "nbformat": 4,
 "nbformat_minor": 4
}