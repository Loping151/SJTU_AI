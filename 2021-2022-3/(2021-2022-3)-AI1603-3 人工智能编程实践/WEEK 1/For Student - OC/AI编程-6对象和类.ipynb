{
 "cells": [
  {
   "cell_type": "markdown",
   "metadata": {},
   "source": [
    "## 面向过程的编程思路"
   ]
  },
  {
   "cell_type": "code",
   "execution_count": null,
   "metadata": {},
   "outputs": [],
   "source": [
    "def makeDuckHead():\n",
    "    #这里可以放其他制作细节\n",
    "    print('鸭头制作完毕')\n",
    "\n",
    "def makeDuckWing():\n",
    "    #这里可以放其他制作细节\n",
    "    print('鸭翅膀制作完毕')\n",
    "\n",
    "def makeDuckBody():\n",
    "    #这里可以放其他制作细节\n",
    "    print('鸭身体制作完毕')\n",
    "\n",
    "def makeDuckFoot():\n",
    "    #这里可以放其他制作细节\n",
    "    print('鸭脚制作完毕')\n",
    "\n",
    "def makeDuckMerge():\n",
    "    #这里可以放其他制作细节\n",
    "    print('鸭子组装完毕')\n",
    "\n",
    "#制作鸭头\n",
    "makeDuckHead() \n",
    "#制作鸭翅膀，注意，猪是没有翅膀的\n",
    "makeDuckWing()  \n",
    "#制作鸭身体\n",
    "makeDuckBody() \n",
    "#制作鸭脚\n",
    "makeDuckFoot() \n",
    "#合并鸭子的各个部位，组装成最终鸭子\n",
    "makeDuckMerge() "
   ]
  },
  {
   "cell_type": "code",
   "execution_count": null,
   "metadata": {},
   "outputs": [],
   "source": [
    "def makePigHead():\n",
    "    #这里可以放其他制作细节\n",
    "    print('猪头制作完毕')\n",
    "\n",
    "def makePigBody():\n",
    "    #这里可以放其他制作细节\n",
    "    print('猪身体制作完毕')\n",
    "\n",
    "def makePigHand():\n",
    "    #这里可以放其他制作细节\n",
    "    print('猪手制作完毕')\n",
    "\n",
    "def makePigFoot():\n",
    "    #这里可以放其他制作细节\n",
    "    print('4只猪脚制作完毕')\n",
    "\n",
    "def makePigMerge():\n",
    "    #这里可以放其他制作细节\n",
    "    print('猪组装完毕')\n",
    "\n",
    "#制作猪头\n",
    "makePigHead() \n",
    "#制作猪身体\n",
    "makePigBody() \n",
    "#制作4只猪脚\n",
    "makePigFoot() \n",
    "#合并猪的各个部位，组装成最终猪\n",
    "makePigMerge() "
   ]
  },
  {
   "cell_type": "markdown",
   "metadata": {},
   "source": [
    "class ClassName:\n",
    "   '类的帮助信息'   #类文档字符串\n",
    "   class_suite  #类体"
   ]
  },
  {
   "cell_type": "code",
   "execution_count": null,
   "metadata": {},
   "outputs": [],
   "source": []
  },
  {
   "cell_type": "markdown",
   "metadata": {},
   "source": [
    "## 类概念"
   ]
  },
  {
   "cell_type": "code",
   "execution_count": null,
   "metadata": {},
   "outputs": [],
   "source": [
    "class Employee:\n",
    "   # 所有员工的基类\n",
    "   empCount = 0\n",
    " \n",
    "   def __init__(self, name, salary):\n",
    "      self.name = name\n",
    "      self.salary = salary\n",
    "      Employee.empCount += 1\n",
    "   \n",
    "   def displayCount(self):\n",
    "     print(\"Total Employee %d\" % Employee.empCount)\n",
    " \n",
    "   def displayEmployee(self):\n",
    "      print(\"Name : \", self.name, \", Salary: \", self.salary)\n",
    "    \n",
    "\n",
    "# 创建 Employee 类的第一个对象\n",
    "emp1 = Employee(\"Zara\", 2000)\n",
    "\n",
    "# 创建 Employee 类的第二个对象\n",
    "emp2 = Employee(\"Manni\", 5000)\n",
    "\n",
    "# 打印emp1的员工信息\n",
    "emp1.displayEmployee()\n",
    "# 打印emp2的员工信息\n",
    "emp2.displayEmployee()\n",
    "\n",
    "emp1.age = 7  # 添加一个 'age' 属性\n",
    "print(\"员工1的年龄是：\", emp1.age)\n",
    "\n",
    "emp1.age = 8  # 修改 'age' 属性\n",
    "print(\"员工1的年龄是：\", emp1.age)\n",
    "\n",
    "# del emp1.age  # 删除 'age' 属性\n",
    "\n",
    "\n",
    "# 如果存在 'age' 属性返回 True\n",
    "if hasattr(emp1, 'age'):\n",
    "    print(\"存在age属性\")\n",
    "else:\n",
    "    print(\"不存在age属性\")\n",
    "\n",
    "# 返回 'age' 属性的值\n",
    "age = getattr(emp1, 'age')    \n",
    "print(\"返回的年龄是：\", age)\n",
    "\n",
    "# 添加属性 'age' 值为 8\n",
    "setattr(emp1, 'age', 8)\n",
    "print(\"员工1的年龄在添加后是：\", emp1.age)\n",
    "\n",
    "# 删除属性 'age'\n",
    "delattr(emp1, 'age')    "
   ]
  },
  {
   "cell_type": "markdown",
   "metadata": {},
   "source": [
    "# 访问对象的属性\n",
    "getattr(obj, name[, default]) \n",
    "# 检查是否存在一个属性\n",
    "hasattr(obj,name) \n",
    "\n",
    "# 设置一个属性。如果属性不存在，会创建一个新属性\n",
    "setattr(obj,name,value) \n",
    "# 删除属性\n",
    "delattr(obj, name) "
   ]
  },
  {
   "cell_type": "markdown",
   "metadata": {},
   "source": [
    "## 不变对象和可变对象"
   ]
  },
  {
   "cell_type": "code",
   "execution_count": null,
   "metadata": {},
   "outputs": [],
   "source": [
    "# 可变对象\n",
    "def ChangeInt(b):\n",
    "    b.append(6)\n",
    "    print(\"函数内b的值为:\", b)\n",
    "    \n",
    "b = [1,2,3,4]\n",
    "print(\"b的值为：\", b)\n",
    "ChangeInt(b)\n",
    "print(\"调用函数后b的值为：\", b)"
   ]
  },
  {
   "cell_type": "code",
   "execution_count": null,
   "metadata": {},
   "outputs": [],
   "source": [
    "# 不可变对象\n",
    "def ChangeInt(b):\n",
    "    b = 10\n",
    "    print(\"函数内b的值为:\",b)\n",
    "\n",
    "b = 2\n",
    "print(\"b的值为：\", b)\n",
    "ChangeInt(b)\n",
    "print(\"调用函数后b的值为：\",b)"
   ]
  },
  {
   "cell_type": "markdown",
   "metadata": {},
   "source": [
    "## 私有数据域"
   ]
  },
  {
   "cell_type": "code",
   "execution_count": null,
   "metadata": {},
   "outputs": [],
   "source": [
    "class test(object):\n",
    "    def __init__(self):\n",
    "        self.num = 10\n",
    "        self._num = 20\n",
    "        self.__num = 30\n",
    "\n",
    "t = test()\n",
    "print(t.num)    # 10\n",
    "print(t._num)   # 20\n",
    "print(t.__num)  # 为私有属性"
   ]
  },
  {
   "cell_type": "markdown",
   "metadata": {},
   "source": [
    "## 类的继承"
   ]
  },
  {
   "cell_type": "markdown",
   "metadata": {},
   "source": [
    "class SubClassName (ParentClass1[, ParentClass2, ...]):\n",
    "    ..."
   ]
  },
  {
   "cell_type": "code",
   "execution_count": null,
   "metadata": {},
   "outputs": [],
   "source": [
    "# 定义父类\n",
    "class Parent:        \n",
    "   parentAttr = 100\n",
    "   def __init__(self):\n",
    "      print(\"调用父类构造函数\")\n",
    " \n",
    "   def parentMethod(self):\n",
    "      print(\"调用父类方法\")\n",
    " \n",
    "   def setAttr(self, attr):\n",
    "      Parent.parentAttr = attr\n",
    " \n",
    "   def getAttr(self):\n",
    "      print(\"父类属性 :\", Parent.parentAttr)\n",
    "\n",
    "\n",
    "# 定义子类\n",
    "class Child(Parent): \n",
    "   def __init__(self):\n",
    "      print(\"调用子类构造方法\")\n",
    " \n",
    "   def childMethod(self):\n",
    "      print(\"调用子类方法\")\n",
    "\n",
    "\n",
    "c = Child() # 实例化子类\n",
    "c.childMethod() # 调用子类的方法  \n",
    "c.parentMethod()  # 调用父类方法"
   ]
  },
  {
   "cell_type": "markdown",
   "metadata": {},
   "source": [
    "## 覆盖方法"
   ]
  },
  {
   "cell_type": "code",
   "execution_count": null,
   "metadata": {},
   "outputs": [],
   "source": [
    "class P(object):\n",
    "    def foo(self):\n",
    "        print(\"I am a P-foo()\")\n",
    " \n",
    "class C(P):\n",
    "    # 覆盖父类方法\n",
    "    def foo(self):\n",
    "        print(\"I am a C-foo()\")\n",
    "        \n",
    "p = P()\n",
    "c = C()\n",
    "p.foo()\n",
    "c.foo()"
   ]
  },
  {
   "cell_type": "code",
   "execution_count": null,
   "metadata": {},
   "outputs": [],
   "source": [
    "## 类的抽象和封装"
   ]
  },
  {
   "cell_type": "code",
   "execution_count": null,
   "metadata": {},
   "outputs": [],
   "source": [
    "import abc # 利用abc模块实现抽象类\n",
    "\n",
    "class All_file(metaclass=abc.ABCMeta):\n",
    "    all_type='file'\n",
    "    @abc.abstractmethod # 定义抽象方法，无需实现功能\n",
    "    def read(self):\n",
    "        '子类必须定义读功能'\n",
    "        pass\n",
    "\n",
    "    @abc.abstractmethod # 定义抽象方法，无需实现功能\n",
    "    def write(self):\n",
    "        '子类必须定义写功能'\n",
    "        pass\n",
    "\n",
    "# class Txt(All_file):\n",
    "#     pass\n",
    "#\n",
    "# t1=Txt() # 报错,子类没有定义抽象方法\n",
    "\n",
    "# 子类继承抽象类，但是必须定义read和write方法\n",
    "class Txt(All_file): \n",
    "    def read(self):\n",
    "        print('文本数据的读取方法')\n",
    "\n",
    "    def write(self):\n",
    "        print('文本数据的读取方法')\n",
    "\n",
    "# 子类继承抽象类，但是必须定义read和write方法\n",
    "class Sata(All_file): \n",
    "    def read(self):\n",
    "        print('硬盘数据的读取方法')\n",
    "\n",
    "    def write(self):\n",
    "        print('硬盘数据的读取方法')\n",
    "\n",
    "wenbenwenjian=Txt()\n",
    "\n",
    "yingpanwenjian=Sata()\n",
    "\n",
    "# 文本文件和硬盘文件\n",
    "# 都具有并实现读写功能\n",
    "wenbenwenjian.read()\n",
    "yingpanwenjian.write()\n",
    "\n",
    "print(wenbenwenjian.all_type)\n",
    "print(yingpanwenjian.all_type)"
   ]
  },
  {
   "cell_type": "markdown",
   "metadata": {},
   "source": [
    "## 多态"
   ]
  },
  {
   "cell_type": "code",
   "execution_count": null,
   "metadata": {},
   "outputs": [],
   "source": [
    "import abc\n",
    "\n",
    "#模拟动物类\n",
    "class Animal(metaclass=abc.ABCMeta):    \n",
    "    @abc.abstractmethod\n",
    "    def talk(self):\n",
    "        pass\n",
    "    \n",
    "#模拟人类\n",
    "class People(Animal):       \n",
    "    def talk(self):\n",
    "        print('say hello world')\n",
    "        \n",
    "#模拟猫类\n",
    "class Cat(Animal):          \n",
    "    def talk(self):\n",
    "        print('say miaomiaomiao')\n",
    "        \n",
    "#模拟狗类\n",
    "class Dog(Animal):          \n",
    "    def talk(self):\n",
    "        print('say wangwangwang')\n",
    "        \n",
    "p = People()\n",
    "c = Cat()\n",
    "d = Dog()\n",
    "\n",
    "# 多态性\n",
    "def talk(obj):\n",
    "    obj.talk()\n",
    "    \n",
    "talk(p)\n",
    "talk(c)\n",
    "talk(d)"
   ]
  },
  {
   "cell_type": "markdown",
   "metadata": {},
   "source": [
    "## 动态绑定"
   ]
  },
  {
   "cell_type": "code",
   "execution_count": null,
   "metadata": {},
   "outputs": [],
   "source": [
    "class People:\n",
    "    def __init__(self, name, weight, height):\n",
    "        self.name = name\n",
    "        self.weight = weight\n",
    "        self.height = height\n",
    "        \n",
    "    # 绑定到对象，需要传入对象的名字\n",
    "    # 类本身是无法使用的\n",
    "    # 如果硬要使用，也需要把对象名字传进来\n",
    "    def bmi(self):    \n",
    "        print(self.weight / (self.height ** 2))\n",
    "        \n",
    "f = People('bob', 70, 1.80)\n",
    "f.bmi()    #绑定对象使用的方法\n",
    "People.bmi(f)    #类使用需要传入对象名字"
   ]
  },
  {
   "cell_type": "code",
   "execution_count": null,
   "metadata": {},
   "outputs": [],
   "source": [
    "class People:\n",
    "    def __init__(self,name):\n",
    "        self.name=name\n",
    "        \n",
    "    def bar(self):\n",
    "        print('Object name：',self.name)\n",
    "        \n",
    "    @classmethod    # 将方法绑定给类People\n",
    "    def func(cls):  # 传入的值只能是类的名字\n",
    "        print('Class name：',cls)\n",
    "\n",
    "\n",
    "f=People('natasha')\n",
    "print(People.func)  # 绑定给类\n",
    "print(f.bar)    # 绑定给对象\n",
    "People.func()   #类调用绑定到类的方法\n",
    "#对象调用绑定到类的方法，打印的依然是类的名字\n",
    "f.func()    "
   ]
  },
  {
   "cell_type": "code",
   "execution_count": null,
   "metadata": {},
   "outputs": [],
   "source": [
    "class Elphant:\n",
    "    def __init__(self, name):\n",
    "        self.name = name\n",
    "        \n",
    "    def open(self, ref):\n",
    "        print(\"大象要开门了. 默念三声. 开!\")\n",
    "        # 由外界传递进来一个冰箱，让冰箱开门\n",
    "        # 这时大象不用背着冰箱到处跑.\n",
    "        # 类与类之间的关系也就不那么的紧密了\n",
    "        # 换句话说, 只要是有open_door()方法的对象\n",
    "        # 都可以接收运行\n",
    "        ref.open_door()\n",
    "  \n",
    "    def close(self, ref):\n",
    "        print(\"大象要关门了. 默念三声. 关!\")\n",
    "        pass\n",
    "    def take(self):\n",
    "        print(\"钻进去\")\n",
    "\n",
    "class Refrigerator:\n",
    "    def open_door(self):\n",
    "        print(\"冰箱门被打开了\")\n",
    "        \n",
    "    def close_door(self):\n",
    "        print(\"冰箱门被关上了\")\n",
    "# 造冰箱\n",
    "r = Refrigerator()\n",
    "# 造大象\n",
    "el = Elphant(\"神奇的大象\")\n",
    "\n",
    "# 此时是把一个冰箱作为参数传递进去了\n",
    "# 也就是说,大象可以指定任何一个冰箱\n",
    "el.open(r) "
   ]
  },
  {
   "cell_type": "code",
   "execution_count": null,
   "metadata": {},
   "outputs": [],
   "source": [
    "class Boy:\n",
    "    def __init__(self,name,character,girlfriend=None):\n",
    "        self.name = name\n",
    "        self.character = character\n",
    "        self.girlfriend = girlfriend\n",
    "        \n",
    "    def xiangqin(self,girl):\n",
    "        self.girlfriend = girl\n",
    "        \n",
    "    def eat(self):\n",
    "        if self.girlfriend:\n",
    "            print(\"吃东西好难,吃啥都不对\")\n",
    "        else:\n",
    "            print(\"单身狗\")\n",
    "\n",
    "class Girl:\n",
    "    def __init__(self,name,boyfriend):\n",
    "        self.name = name\n",
    "        self.boyfriend =boyfriend\n",
    "        \n",
    "    def eat(self):\n",
    "        print (\"%s在吃饭\" % self.name)\n",
    "\n",
    "g = Girl(\"排骨精\",\"八戒\")\n",
    "b = Boy(\"猪八戒\",\"无\")\n",
    "b.xiangqin(g)\n",
    "b.eat()"
   ]
  },
  {
   "cell_type": "markdown",
   "metadata": {},
   "source": [
    "## \\_\\_slots\\_\\_：限制实例的属性"
   ]
  },
  {
   "cell_type": "code",
   "execution_count": null,
   "metadata": {},
   "outputs": [],
   "source": [
    "class Student(object):\n",
    "    __slots__ = ('name', 'age') # 用tuple定义允许绑定的属性名称\n",
    "    \n",
    "s = Student() # 创建新的实例\n",
    "s.name = 'Michael' # 绑定属性'name'\n",
    "s.age = 25 # 绑定属性'age'\n",
    "s.score = 99 # 绑定属性'score'"
   ]
  },
  {
   "cell_type": "markdown",
   "metadata": {},
   "source": [
    "## 枚举类"
   ]
  },
  {
   "cell_type": "code",
   "execution_count": null,
   "metadata": {},
   "outputs": [],
   "source": [
    "from enum import Enum\n",
    "\n",
    "Month = Enum('Month', ('Jan', 'Feb', 'Mar', 'Apr', 'May', 'Jun', 'Jul', 'Aug', 'Sep', 'Oct', 'Nov', 'Dec'))"
   ]
  },
  {
   "cell_type": "code",
   "execution_count": null,
   "metadata": {},
   "outputs": [],
   "source": [
    "# 练习题代码\n",
    "class Student():\n",
    "    # TODO\n",
    "\n",
    "zm = Student('zhangming', 20, [69, 88, 100])\n",
    "print(zm.get_name())\n",
    "print(zm.get_age())\n",
    "print(zm.get_course())"
   ]
  },
  {
   "cell_type": "code",
   "execution_count": null,
   "metadata": {},
   "outputs": [],
   "source": []
  }
 ],
 "metadata": {
  "kernelspec": {
   "display_name": "Python 3 (ipykernel)",
   "language": "python",
   "name": "python3"
  },
  "language_info": {
   "codemirror_mode": {
    "name": "ipython",
    "version": 3
   },
   "file_extension": ".py",
   "mimetype": "text/x-python",
   "name": "python",
   "nbconvert_exporter": "python",
   "pygments_lexer": "ipython3",
   "version": "3.9.7"
  }
 },
 "nbformat": 4,
 "nbformat_minor": 4
}
