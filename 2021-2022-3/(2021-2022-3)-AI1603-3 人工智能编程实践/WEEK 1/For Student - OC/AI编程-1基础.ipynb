{
 "cells": [
  {
   "cell_type": "markdown",
   "metadata": {},
   "source": [
    "Input( ) 会将你从键盘上输入的字符返回，并且无论你输入的是什么你总会得到一个字符串。"
   ]
  },
  {
   "cell_type": "code",
   "execution_count": null,
   "metadata": {},
   "outputs": [],
   "source": [
    "str = input(\"Please enter your name: \")\n",
    "print(str)\n",
    "print(type(str))"
   ]
  },
  {
   "cell_type": "markdown",
   "metadata": {},
   "source": [
    "eval() 会将输入的内容作为一个计算表达式传入。"
   ]
  },
  {
   "cell_type": "code",
   "execution_count": null,
   "metadata": {},
   "outputs": [],
   "source": [
    "x = eval('123')\n",
    "print(x)\n",
    "print(type(x))\n",
    "sum = eval('1 + 2 + 3')\n",
    "print(sum)"
   ]
  },
  {
   "cell_type": "markdown",
   "metadata": {},
   "source": [
    "python中的变量赋值"
   ]
  },
  {
   "cell_type": "code",
   "execution_count": null,
   "metadata": {
    "scrolled": true
   },
   "outputs": [],
   "source": [
    "counter = 100 # 赋值整型变量\n",
    "miles = 1000.0 # 浮点型\n",
    "name = \"John\" # 字符串\n",
    " \n",
    "print (counter)\n",
    "print (miles)\n",
    "print (name)"
   ]
  },
  {
   "cell_type": "markdown",
   "metadata": {},
   "source": [
    "Python中的多变量赋值"
   ]
  },
  {
   "cell_type": "code",
   "execution_count": null,
   "metadata": {
    "scrolled": true
   },
   "outputs": [],
   "source": [
    "a = b = c = 1\n",
    "print (a, b, c)\n",
    "a, b, c = 1, 2, \"john\"\n",
    "print(a, b, c)"
   ]
  },
  {
   "cell_type": "markdown",
   "metadata": {},
   "source": [
    "Python的运算符"
   ]
  },
  {
   "cell_type": "code",
   "execution_count": null,
   "metadata": {},
   "outputs": [],
   "source": [
    "a = 21\n",
    "b = 10\n",
    "c = 0\n",
    " \n",
    "c = a + b\n",
    "print (\" c 的值为：\", c)\n",
    " \n",
    "c = a - b\n",
    "print (\" c 的值为：\", c) \n",
    " \n",
    "c = a * b\n",
    "print (\" c 的值为：\", c) \n",
    " \n",
    "c = a / b\n",
    "print (\" c 的值为：\", c) \n",
    " \n",
    "c = a % b\n",
    "print (\" c 的值为：\", c)\n",
    " \n",
    "# 修改变量 a 、b 、c\n",
    "a = 2\n",
    "b = 3\n",
    "c = a**b \n",
    "print (\" c 的值为：\", c)\n",
    " \n",
    "a = 10\n",
    "b = 5\n",
    "c = a//b \n",
    "print (\" c 的值为：\", c)"
   ]
  },
  {
   "cell_type": "markdown",
   "metadata": {},
   "source": [
    "Python比较运算符"
   ]
  },
  {
   "cell_type": "code",
   "execution_count": null,
   "metadata": {},
   "outputs": [],
   "source": [
    "a = 21\n",
    "b = 10\n",
    "c = 0\n",
    " \n",
    "if  a == b :\n",
    "   print (\"a 等于 b\")\n",
    "else:\n",
    "   print (\"a 不等于 b\")\n",
    " \n",
    "if  a != b :\n",
    "   print (\"a 不等于 b\")\n",
    "else:\n",
    "   print (\"a 等于 b\")\n",
    " \n",
    "if  a != b :\n",
    "   print (\"a 不等于 b\")\n",
    "else:\n",
    "   print (\"a 等于 b\")\n",
    " \n",
    "if  a < b :\n",
    "   print (\"a 小于 b\" )\n",
    "else:\n",
    "   print (\"a 大于等于 b\")\n",
    " \n",
    "if  a > b :\n",
    "   print (\"a 大于 b\")\n",
    "else:\n",
    "   print (\"a 小于等于 b\")\n",
    " "
   ]
  },
  {
   "cell_type": "markdown",
   "metadata": {},
   "source": [
    "Python赋值运算符"
   ]
  },
  {
   "cell_type": "code",
   "execution_count": null,
   "metadata": {},
   "outputs": [],
   "source": [
    "a = 21\n",
    "b = 10\n",
    "c = 0\n",
    " \n",
    "c = a + b\n",
    "print (\"c 的值为：\", c)\n",
    " \n",
    "c += a\n",
    "print (\"c 的值为：\", c )\n",
    " \n",
    "c *= a\n",
    "print (\"c 的值为：\", c )\n",
    " \n",
    "c /= a \n",
    "print (\"c 的值为：\", c )\n",
    " \n",
    "c = 2\n",
    "c %= a\n",
    "print (\"c 的值为：\", c)\n",
    " \n",
    "c **= a\n",
    "print (\"c 的值为：\", c)\n",
    " \n",
    "c //= a\n",
    "print (\"c 的值为：\", c)"
   ]
  },
  {
   "cell_type": "markdown",
   "metadata": {},
   "source": [
    "Python位运算符"
   ]
  },
  {
   "cell_type": "code",
   "execution_count": null,
   "metadata": {},
   "outputs": [],
   "source": [
    "a = 60            # 60 = 0011 1100 \n",
    "b = 13            # 13 = 0000 1101 \n",
    "c = 0\n",
    " \n",
    "c = a & b;        # 12 = 0000 1100\n",
    "print (\"c 的值为：\", c)\n",
    " \n",
    "c = a | b;        # 61 = 0011 1101 \n",
    "print (\"c 的值为：\", c)\n",
    " \n",
    "c = a ^ b;        # 49 = 0011 0001\n",
    "print (\"c 的值为：\", c)\n",
    " \n",
    "c = ~a;           # -61 = 1100 0011\n",
    "print (\"c 的值为：\", c)\n",
    " \n",
    "c = a << 2;       # 240 = 1111 0000\n",
    "print (\"c 的值为：\", c)\n",
    " \n",
    "c = a >> 2;       # 15 = 0000 1111\n",
    "print (\"c 的值为：\", c)"
   ]
  },
  {
   "cell_type": "markdown",
   "metadata": {},
   "source": [
    "Python字符串输出"
   ]
  },
  {
   "cell_type": "code",
   "execution_count": null,
   "metadata": {},
   "outputs": [],
   "source": [
    "print(\"I am Chinese\")\n",
    "print(\"I\\n am \\n Chinese\")\n",
    "print(\"\\t I \\t am \\t Chinese\")"
   ]
  },
  {
   "cell_type": "code",
   "execution_count": null,
   "metadata": {},
   "outputs": [],
   "source": [
    "print('''a\n",
    "b\n",
    "c''')"
   ]
  }
 ],
 "metadata": {
  "kernelspec": {
   "display_name": "Python 3 (ipykernel)",
   "language": "python",
   "name": "python3"
  },
  "language_info": {
   "codemirror_mode": {
    "name": "ipython",
    "version": 3
   },
   "file_extension": ".py",
   "mimetype": "text/x-python",
   "name": "python",
   "nbconvert_exporter": "python",
   "pygments_lexer": "ipython3",
   "version": "3.9.7"
  }
 },
 "nbformat": 4,
 "nbformat_minor": 4
}
