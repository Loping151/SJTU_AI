{
 "cells": [
  {
   "cell_type": "markdown",
   "metadata": {},
   "source": [
    "布尔类型"
   ]
  },
  {
   "cell_type": "code",
   "execution_count": null,
   "metadata": {},
   "outputs": [],
   "source": [
    "True"
   ]
  },
  {
   "cell_type": "code",
   "execution_count": null,
   "metadata": {},
   "outputs": [],
   "source": [
    "1+False+1.2"
   ]
  },
  {
   "cell_type": "markdown",
   "metadata": {},
   "source": [
    "条件控制语句"
   ]
  },
  {
   "cell_type": "code",
   "execution_count": null,
   "metadata": {},
   "outputs": [],
   "source": [
    "grade = int(input(\"Enter a student's grade:\"))\n",
    "if grade >= 95:\n",
    "    print(\"GPA = 4.3\")\n",
    "elif grade >= 90:\n",
    "    print(\"GPA = 4.0\")\n",
    "elif grade >= 85:\n",
    "    print(\"GPA = 3.7\")\n",
    "elif grade >= 80:\n",
    "    print(\"GPA = 3.3\")\n",
    "else:\n",
    "    print(\"GPA = 3.0\")"
   ]
  },
  {
   "cell_type": "markdown",
   "metadata": {},
   "source": [
    "While循环语句"
   ]
  },
  {
   "cell_type": "code",
   "execution_count": null,
   "metadata": {},
   "outputs": [],
   "source": [
    "# 计算a和n次幂\n",
    "a = int(input())\n",
    "n = int(input())\n",
    "ans = 1\n",
    "while n > 0:\n",
    "    if n & 1:        \n",
    "        ans *= a  \n",
    "    a *= a        \n",
    "    n >>= 1\n",
    "print(ans)\n"
   ]
  },
  {
   "cell_type": "markdown",
   "metadata": {},
   "source": [
    "for循环语句"
   ]
  },
  {
   "cell_type": "code",
   "execution_count": null,
   "metadata": {},
   "outputs": [],
   "source": [
    "string = \"The Man Who Changed China: The Life and Legacy of Jiang\"\n",
    "for i in string:\n",
    "    print(i)"
   ]
  },
  {
   "cell_type": "code",
   "execution_count": null,
   "metadata": {},
   "outputs": [],
   "source": [
    "for x in range(10):\n",
    "    print(x + 1)"
   ]
  },
  {
   "cell_type": "code",
   "execution_count": 4,
   "metadata": {
    "pycharm": {
     "name": "#%%\n"
    }
   },
   "outputs": [
    {
     "name": "stdout",
     "output_type": "stream",
     "text": [
      "-1\n",
      "4\n",
      "-1\n",
      "3\n",
      "-1\n",
      "7\n",
      "4\n",
      "3\n",
      "4\n",
      "-1\n",
      "8\n",
      "7\n",
      "3\n",
      "9\n"
     ]
    }
   ],
   "source": [
    "# 随堂小测\n",
    "# 统计字符串a中每个字符在字符串b中的索引\n",
    "# 如果没有就返回-1\n",
    "a = \"I have a dream\"\n",
    "b = \"Moba Xterm\"\n",
    "for i in a:\n",
    "    # TODO\n",
    "    # if i == ' ':\n",
    "    #     continue # if we should skip space\n",
    "    ans = -1\n",
    "    for j in range(len(b)):\n",
    "        if b[j] == i:\n",
    "            ans = j\n",
    "            break\n",
    "    # another way\n",
    "    # for j in b:\n",
    "    #     if j == i:\n",
    "    #         ans = b.index(j)\n",
    "    print(ans)\n"
   ]
  }
 ],
 "metadata": {
  "interpreter": {
   "hash": "9e82bec5d5cd99b5d6d6a18b86112fcf149f44a5b760d7343398ac5a8561c380"
  },
  "kernelspec": {
   "display_name": "Python 3 (ipykernel)",
   "language": "python",
   "name": "python3"
  },
  "language_info": {
   "codemirror_mode": {
    "name": "ipython",
    "version": 3
   },
   "file_extension": ".py",
   "mimetype": "text/x-python",
   "name": "python",
   "nbconvert_exporter": "python",
   "pygments_lexer": "ipython3",
   "version": "3.9.7"
  }
 },
 "nbformat": 4,
 "nbformat_minor": 4
}