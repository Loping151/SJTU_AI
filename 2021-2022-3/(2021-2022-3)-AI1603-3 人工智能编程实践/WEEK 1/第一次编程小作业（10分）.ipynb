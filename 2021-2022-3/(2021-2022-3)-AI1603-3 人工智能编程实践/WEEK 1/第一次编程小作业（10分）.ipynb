{
 "cells": [
  {
   "cell_type": "markdown",
   "metadata": {},
   "source": [
    "作业解释：本次作业占总成绩的10%，共三题。请大家依题意，补全对应函数。同学们可以参照示例的输入输出检查自己实现的正确与否。\n",
    "\n",
    "注意：**请不要修改函数名字**，补全函数中所有要求的内容后，请将本.ipynb文件上传至canvas。\n",
    "\n",
    "提交截止时间：6月29日（周三），23点59分"
   ]
  },
  {
   "cell_type": "markdown",
   "metadata": {},
   "source": [
    "问题1：从键盘读入一组字符串（字符串只包含大小写字母），字符串用空格分隔。由于这组字符串是人名，请把每个单词的首字母大写，其他字母小写。然后按照首字母的ASCII码的顺序降序输出。（3分）"
   ]
  },
  {
   "cell_type": "code",
   "execution_count": 3,
   "metadata": {},
   "outputs": [
    {
     "name": "stdout",
     "output_type": "stream",
     "text": [
      "Zhao, Sun, Qian, Li\n"
     ]
    }
   ],
   "source": [
    "strings = input()\n",
    "\n",
    "# TODO\n",
    "def convert_strings(strings):\n",
    "    result = strings.title().split()\n",
    "    # TODO\n",
    "    result.sort(reverse = True)\n",
    "    # print(', '.join(result)) # if we need to print\n",
    "    return ', '.join(result)\n",
    "\n",
    "'''\n",
    "Input: strings = 'zhao qian sun li'\n",
    "Expected Output: Zhao, Sun, Qian, Li\n",
    "'''\n",
    "# test:\n",
    "convert_strings('zhao qian sun li') == 'Zhao, Sun, Qian, Li'\n",
    "print(convert_strings('zhao qian sun li'))\n"
   ]
  },
  {
   "cell_type": "markdown",
   "metadata": {},
   "source": [
    "问题2:设计一个函数，可用于自动判断二进制、八进制、十六进制输入，并转换成十进制。可以使用内置函数实现（3分）。自定义的进制转换实现（1分）。"
   ]
  },
  {
   "cell_type": "code",
   "execution_count": null,
   "metadata": {},
   "outputs": [
    {
     "name": "stdout",
     "output_type": "stream",
     "text": [
      "7 2730 671 1234\n",
      "7 2730 671 1234\n"
     ]
    }
   ],
   "source": [
    "# TODO\n",
    "# 不是太理解题意，我按自己的理解写了, I suppose inputs are strings, and the output is int number\n",
    "# Hint: Checkout Built-in Functions 'bin', 'hex', 'oct', 'int' in Python Offical Docs\n",
    "def convert_binary2_bulitin(num):\n",
    "    if num[1] == 'b':\n",
    "        # print('binary')\n",
    "        result = int(num, 2)\n",
    "    elif num[1] == 'x':\n",
    "        # print('hex')\n",
    "        result = int(num, 16)\n",
    "    elif num[1] == 'o':\n",
    "        # print('oct')\n",
    "        result = int(num, 8)\n",
    "    else:\n",
    "        result = int(num)\n",
    "    return result\n",
    "\n",
    "\n",
    "def convert_binary2(num):\n",
    "    def convert(num, base = 10):\n",
    "        int_num = 0\n",
    "        if base == 10:\n",
    "            for i in num:\n",
    "                int_num *= 10\n",
    "                int_num +=  ord(i) - ord('0')\n",
    "        else:\n",
    "            for i in range(2, len(num)):\n",
    "                int_num *= base\n",
    "                if num[i] <= '9' and  num[i] >= '0': # first 0 doesn't count, but b, x, c should be filtered.    \n",
    "                    int_num += ord(num[i]) - ord('0')\n",
    "                if num[i] <= 'f' and num[i] >= 'a':\n",
    "                    int_num += ord(num[i]) - ord('a') + 10\n",
    "        return int_num\n",
    "\n",
    "    if num[1] == 'b':\n",
    "        # print('binary')\n",
    "        result = convert(num, 2)\n",
    "    elif num[1] == 'x':\n",
    "        # print('hex')\n",
    "        result = convert(num, 16)\n",
    "    elif num[1] == 'o':\n",
    "        # print('oct')\n",
    "        result = convert(num, 8)\n",
    "    else:\n",
    "        result = convert(num)\n",
    "    return result\n",
    "\n",
    "'''\n",
    "Inputs: '0b111', '0xaaa',  '0o1237'\n",
    "Expected Outputs: 7, 2730, 671\n",
    "'''\n",
    "# test\n",
    "print(convert_binary2_bulitin('0b111'), convert_binary2_bulitin('0xaaa'), convert_binary2_bulitin('0o1237'), convert_binary2_bulitin('1234'))\n",
    "print(convert_binary2('0b111'), convert_binary2('0xaaa'), convert_binary2('0o1237'), convert_binary2('1234'))"
   ]
  },
  {
   "cell_type": "markdown",
   "metadata": {},
   "source": [
    "问题3：设计一个装饰器。要求作用在任何函数上时都可以得到这个函数的执行时间。装饰器的输出格式如下：“A executed in B ms”。其中A为被装饰函数的名字，B为时间。(3分)"
   ]
  },
  {
   "cell_type": "code",
   "execution_count": 75,
   "metadata": {},
   "outputs": [
    {
     "name": "stdout",
     "output_type": "stream",
     "text": [
      "test executed in 0.9882000000216066837 ms\n",
      "test executed in 0.1815000001806765795 ms\n"
     ]
    },
    {
     "ename": "KeyboardInterrupt",
     "evalue": "",
     "output_type": "error",
     "traceback": [
      "\u001b[1;31m---------------------------------------------------------------------------\u001b[0m",
      "\u001b[1;31mKeyboardInterrupt\u001b[0m                         Traceback (most recent call last)",
      "\u001b[1;32mC:\\Users\\KAILIN~1\\AppData\\Local\\Temp/ipykernel_2532/798396329.py\u001b[0m in \u001b[0;36m<module>\u001b[1;34m\u001b[0m\n\u001b[0;32m     28\u001b[0m     \u001b[0mtime\u001b[0m\u001b[1;33m.\u001b[0m\u001b[0msleep\u001b[0m\u001b[1;33m(\u001b[0m\u001b[0mx\u001b[0m\u001b[1;33m)\u001b[0m\u001b[1;33m\u001b[0m\u001b[1;33m\u001b[0m\u001b[0m\n\u001b[0;32m     29\u001b[0m \u001b[1;33m\u001b[0m\u001b[0m\n\u001b[1;32m---> 30\u001b[1;33m \u001b[0mslp\u001b[0m\u001b[1;33m(\u001b[0m\u001b[1;36m1\u001b[0m\u001b[1;33m)\u001b[0m\u001b[1;33m\u001b[0m\u001b[1;33m\u001b[0m\u001b[0m\n\u001b[0m\u001b[0;32m     31\u001b[0m \u001b[0mslp\u001b[0m\u001b[1;33m(\u001b[0m\u001b[1;36m3\u001b[0m\u001b[1;33m)\u001b[0m\u001b[1;33m\u001b[0m\u001b[1;33m\u001b[0m\u001b[0m\n\u001b[0;32m     32\u001b[0m \u001b[1;33m\u001b[0m\u001b[0m\n",
      "\u001b[1;32mC:\\Users\\KAILIN~1\\AppData\\Local\\Temp/ipykernel_2532/798396329.py\u001b[0m in \u001b[0;36mtimer\u001b[1;34m(*args, **kwargs)\u001b[0m\n\u001b[0;32m      8\u001b[0m     \u001b[1;32mdef\u001b[0m \u001b[0mtimer\u001b[0m\u001b[1;33m(\u001b[0m\u001b[1;33m*\u001b[0m\u001b[0margs\u001b[0m\u001b[1;33m,\u001b[0m \u001b[1;33m**\u001b[0m\u001b[0mkwargs\u001b[0m\u001b[1;33m)\u001b[0m\u001b[1;33m:\u001b[0m\u001b[1;33m\u001b[0m\u001b[1;33m\u001b[0m\u001b[0m\n\u001b[0;32m      9\u001b[0m         \u001b[0mt\u001b[0m \u001b[1;33m=\u001b[0m \u001b[0mtimeit\u001b[0m\u001b[1;33m.\u001b[0m\u001b[0mdefault_timer\u001b[0m\u001b[1;33m(\u001b[0m\u001b[1;33m)\u001b[0m\u001b[1;33m*\u001b[0m\u001b[1;36m1000\u001b[0m\u001b[1;33m\u001b[0m\u001b[1;33m\u001b[0m\u001b[0m\n\u001b[1;32m---> 10\u001b[1;33m         \u001b[0mresult\u001b[0m \u001b[1;33m=\u001b[0m \u001b[0mfn\u001b[0m\u001b[1;33m(\u001b[0m\u001b[1;33m*\u001b[0m\u001b[0margs\u001b[0m\u001b[1;33m,\u001b[0m \u001b[1;33m**\u001b[0m\u001b[0mkwargs\u001b[0m\u001b[1;33m)\u001b[0m\u001b[1;33m\u001b[0m\u001b[1;33m\u001b[0m\u001b[0m\n\u001b[0m\u001b[0;32m     11\u001b[0m         \u001b[0mdt\u001b[0m \u001b[1;33m=\u001b[0m \u001b[0mtimeit\u001b[0m\u001b[1;33m.\u001b[0m\u001b[0mdefault_timer\u001b[0m\u001b[1;33m(\u001b[0m\u001b[1;33m)\u001b[0m\u001b[1;33m*\u001b[0m\u001b[1;36m1000\u001b[0m\u001b[1;33m-\u001b[0m\u001b[0mt\u001b[0m\u001b[1;33m\u001b[0m\u001b[1;33m\u001b[0m\u001b[0m\n\u001b[0;32m     12\u001b[0m         \u001b[0mprint\u001b[0m\u001b[1;33m(\u001b[0m\u001b[0mfn\u001b[0m\u001b[1;33m.\u001b[0m\u001b[0m__name__\u001b[0m \u001b[1;33m+\u001b[0m \u001b[1;34m' executed in {:.19f} ms'\u001b[0m\u001b[1;33m.\u001b[0m\u001b[0mformat\u001b[0m\u001b[1;33m(\u001b[0m\u001b[0mdt\u001b[0m\u001b[1;33m)\u001b[0m\u001b[1;33m)\u001b[0m\u001b[1;33m\u001b[0m\u001b[1;33m\u001b[0m\u001b[0m\n",
      "\u001b[1;32mC:\\Users\\KAILIN~1\\AppData\\Local\\Temp/ipykernel_2532/798396329.py\u001b[0m in \u001b[0;36mslp\u001b[1;34m(x)\u001b[0m\n\u001b[0;32m     26\u001b[0m \u001b[1;33m@\u001b[0m\u001b[0mmetric\u001b[0m\u001b[1;33m\u001b[0m\u001b[1;33m\u001b[0m\u001b[0m\n\u001b[0;32m     27\u001b[0m \u001b[1;32mdef\u001b[0m \u001b[0mslp\u001b[0m\u001b[1;33m(\u001b[0m\u001b[0mx\u001b[0m\u001b[1;33m)\u001b[0m\u001b[1;33m:\u001b[0m\u001b[1;33m\u001b[0m\u001b[1;33m\u001b[0m\u001b[0m\n\u001b[1;32m---> 28\u001b[1;33m     \u001b[0mtime\u001b[0m\u001b[1;33m.\u001b[0m\u001b[0msleep\u001b[0m\u001b[1;33m(\u001b[0m\u001b[0mx\u001b[0m\u001b[1;33m)\u001b[0m\u001b[1;33m\u001b[0m\u001b[1;33m\u001b[0m\u001b[0m\n\u001b[0m\u001b[0;32m     29\u001b[0m \u001b[1;33m\u001b[0m\u001b[0m\n\u001b[0;32m     30\u001b[0m \u001b[0mslp\u001b[0m\u001b[1;33m(\u001b[0m\u001b[1;36m1\u001b[0m\u001b[1;33m)\u001b[0m\u001b[1;33m\u001b[0m\u001b[1;33m\u001b[0m\u001b[0m\n",
      "\u001b[1;31mKeyboardInterrupt\u001b[0m: "
     ]
    }
   ],
   "source": [
    "# Hint, import time, functools before the implementation\n",
    "import time, timeit\n",
    "from functools import wraps\n",
    "\n",
    "def metric(fn):\n",
    "    # TODO\n",
    "    @wraps(fn)\n",
    "    def timer(*args, **kwargs):\n",
    "        t = timeit.default_timer()*1000\n",
    "        result = fn(*args, **kwargs)\n",
    "        dt = timeit.default_timer()*1000-t\n",
    "        print(fn.__name__ + ' executed in {:.19f} ms'.format(dt))\n",
    "        return result\n",
    "    return timer\n",
    "\n",
    "\n",
    "@metric\n",
    "def test(x):\n",
    "    for _ in range(x):\n",
    "        continue\n",
    "\n",
    "\n",
    "test(100000)\n",
    "test(19000)\n",
    "\n",
    "@metric\n",
    "def slp(x):\n",
    "    time.sleep(x)\n",
    "\n",
    "slp(1)\n",
    "slp(3)\n",
    "\n",
    "'''\n",
    "Expected Outputs:\n",
    "test executed in 0.0071620941162109375 ms\n",
    "test executed in 0.0013530254364013672 ms\n",
    "'''\n"
   ]
  },
  {
   "cell_type": "code",
   "execution_count": null,
   "metadata": {},
   "outputs": [],
   "source": []
  }
 ],
 "metadata": {
  "kernelspec": {
   "display_name": "Python 3.9.8 64-bit",
   "language": "python",
   "name": "python3"
  },
  "language_info": {
   "codemirror_mode": {
    "name": "ipython",
    "version": 3
   },
   "file_extension": ".py",
   "mimetype": "text/x-python",
   "name": "python",
   "nbconvert_exporter": "python",
   "pygments_lexer": "ipython3",
   "version": "3.9.8"
  },
  "vscode": {
   "interpreter": {
    "hash": "9b4d75ac280b6c7c3aa43866cb82dc88915409b55fec83a093dd0284cb58708e"
   }
  }
 },
 "nbformat": 4,
 "nbformat_minor": 4
}
